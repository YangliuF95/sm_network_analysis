{
  "nbformat": 4,
  "nbformat_minor": 0,
  "metadata": {
    "kernelspec": {
      "display_name": "Python 3",
      "language": "python",
      "name": "python3"
    },
    "language_info": {
      "codemirror_mode": {
        "name": "ipython",
        "version": 3
      },
      "file_extension": ".py",
      "mimetype": "text/x-python",
      "name": "python",
      "nbconvert_exporter": "python",
      "pygments_lexer": "ipython3",
      "version": "3.7.6"
    },
    "colab": {
      "name": "wos_mag.ipynb",
      "provenance": [],
      "toc_visible": true
    }
  },
  "cells": [
    {
      "cell_type": "markdown",
      "metadata": {
        "id": "IhuP5Ji1PsJa"
      },
      "source": [
        "# MAG dataset\n",
        "After downloading the WoS dataset, we complement it with relevant information from the MAG dataset, including received citations, references and author information. Here we show how we process pair-wise matching using the big MAG dataset(s). Note that each MAG dataset has more than a hundred million lines, which we would not have enough memory to read it at one time. \n",
        "- We first split each docuement into smaller text files using python.\n",
        "- We then use Pandas to read each small text file into a DataFrame. We process it in chunks by specifying the chunksize= 100000, and merge the returned TextFileReader objects. \n",
        "\n",
        "*For detailed data schema of the MAG dataset(s), see https://docs.microsoft.com/en-us/academic-services/graph/reference-data-schema*"
      ]
    },
    {
      "cell_type": "code",
      "metadata": {
        "id": "mIE7Degq0Jix"
      },
      "source": [
        "import pandas as pd\n",
        "import os"
      ],
      "execution_count": null,
      "outputs": []
    },
    {
      "cell_type": "markdown",
      "metadata": {
        "id": "Z11Zp2WX0Ji3"
      },
      "source": [
        "**Find paperid through doi**"
      ]
    },
    {
      "cell_type": "code",
      "metadata": {
        "id": "lo-zzNqR0Ji5"
      },
      "source": [
        "# the Doi list from wos\n",
        "with open ('list_DOI.txt','r') as f:\n",
        "    a=f.read()\n",
        "a=a.lower()\n",
        "a='\\n'+a\n",
        "a=a.replace('\\n','@#')"
      ],
      "execution_count": null,
      "outputs": []
    },
    {
      "cell_type": "code",
      "metadata": {
        "id": "zczAo3Pv0Ji6",
        "outputId": "a64fd1d4-d284-4e8c-9207-cc94fd6d4fb3"
      },
      "source": [
        "len(a.split('@#')[1:-1])"
      ],
      "execution_count": null,
      "outputs": [
        {
          "data": {
            "text/plain": [
              "11951"
            ]
          },
          "execution_count": 13,
          "metadata": {},
          "output_type": "execute_result"
        }
      ]
    },
    {
      "cell_type": "code",
      "metadata": {
        "id": "mXP6dm850Ji6"
      },
      "source": [
        "#search through the mag dataset\n",
        "n=0\n",
        "data=pd.DataFrame()\n",
        "for ii,line in enumerate(open('Papers.txt',encoding='utf8')):\n",
        "    if ii <100:\n",
        "        doi=line.lower().strip().split('\\t')[2]\n",
        "        query=str('@#'+doi+'@#')\n",
        "        if query in a:\n",
        "            data.loc[n,'DOI']=doi\n",
        "            data.loc[n,'ID']=line.strip().split('\\t')[0]\n",
        "            data.loc[n,'Title']=line.strip().split('\\t')[5]\n",
        "            n+=1\n",
        "    else:\n",
        "        break"
      ],
      "execution_count": null,
      "outputs": []
    },
    {
      "cell_type": "code",
      "metadata": {
        "id": "eBUc8oCV0Ji7"
      },
      "source": [
        "data=data.drop_duplicates(subset=['DOI']).reset_index(drop=True)"
      ],
      "execution_count": null,
      "outputs": []
    },
    {
      "cell_type": "code",
      "metadata": {
        "id": "OhQBrRx90Ji8"
      },
      "source": [
        "wos=pd.read_csv('wos.csv')\n",
        "a=pd.merge(wos,data,on=['DOI']).drop_duplicates(subset=['DOI']).dropna(subset=['DOI']).reset_index(drop=True)"
      ],
      "execution_count": null,
      "outputs": []
    },
    {
      "cell_type": "code",
      "metadata": {
        "id": "hl3gWLWqVewz"
      },
      "source": [
        "a.to_csv('id_drop1.csv',index=False)"
      ],
      "execution_count": null,
      "outputs": []
    },
    {
      "cell_type": "code",
      "metadata": {
        "id": "aiJzWt8J0Ji9",
        "outputId": "8a06031e-7bfb-4f4a-be5c-49012ea64c29"
      },
      "source": [
        "len(a)/len(wos) #98% articles are found in the MAG dataset"
      ],
      "execution_count": null,
      "outputs": [
        {
          "data": {
            "text/plain": [
              "0.9820098736507406"
            ]
          },
          "execution_count": 33,
          "metadata": {},
          "output_type": "execute_result"
        }
      ]
    },
    {
      "cell_type": "markdown",
      "metadata": {
        "id": "8IAM1C7Z0Ji_"
      },
      "source": [
        "**Find reference paperid**"
      ]
    },
    {
      "cell_type": "code",
      "metadata": {
        "id": "plOiJKXz0JjA"
      },
      "source": [
        "#write 10 smaller documents\n",
        "with open('PaperReferences.txt') as infp:\n",
        "    files = [open('citation%d.txt' % i, 'w') for i in range(10)]\n",
        "    for i, line in enumerate(infp):\n",
        "        files[i % 10].write(line)\n",
        "    for f in files:\n",
        "        f.close()"
      ],
      "execution_count": null,
      "outputs": []
    },
    {
      "cell_type": "code",
      "metadata": {
        "id": "hAhn66gn0JjA"
      },
      "source": [
        "data=pd.read_csv('id_drop1.csv')"
      ],
      "execution_count": null,
      "outputs": []
    },
    {
      "cell_type": "code",
      "metadata": {
        "id": "r3jCCm490JjA"
      },
      "source": [
        "part=[]\n",
        "dfs=[]\n",
        "for i in range(8,10):\n",
        "    df = pd.read_csv('citation'+str(i)+'.txt', sep='\\t', iterator=True, chunksize=1000000,names=['ID','reference'])\n",
        "    chunk_list = []\n",
        "    for chunk in df:  \n",
        "        chunk_list.append(chunk)\n",
        "    df_concat = pd.concat(chunk_list)\n",
        "    dfs.append(df_concat)\n",
        "    part.append(pd.merge(data,df_concat,on='ID'))"
      ],
      "execution_count": null,
      "outputs": []
    },
    {
      "cell_type": "code",
      "metadata": {
        "id": "EwexLHUt0JjA"
      },
      "source": [
        "# write to csv and save \n",
        "part[0].to_csv('citation8.csv',index=False)\n",
        "part[1].to_csv('citation9.csv',index=False)"
      ],
      "execution_count": null,
      "outputs": []
    },
    {
      "cell_type": "code",
      "metadata": {
        "id": "CMqxd0lF0JjB",
        "outputId": "fc126911-0c17-4d5f-cd64-18b72032249c"
      },
      "source": [
        "pd.read_csv('citation8.csv')"
      ],
      "execution_count": null,
      "outputs": [
        {
          "data": {
            "text/html": [
              "<div>\n",
              "<style scoped>\n",
              "    .dataframe tbody tr th:only-of-type {\n",
              "        vertical-align: middle;\n",
              "    }\n",
              "\n",
              "    .dataframe tbody tr th {\n",
              "        vertical-align: top;\n",
              "    }\n",
              "\n",
              "    .dataframe thead th {\n",
              "        text-align: right;\n",
              "    }\n",
              "</style>\n",
              "<table border=\"1\" class=\"dataframe\">\n",
              "  <thead>\n",
              "    <tr style=\"text-align: right;\">\n",
              "      <th></th>\n",
              "      <th>DOI</th>\n",
              "      <th>ID</th>\n",
              "      <th>Title</th>\n",
              "      <th>reference</th>\n",
              "    </tr>\n",
              "  </thead>\n",
              "  <tbody>\n",
              "    <tr>\n",
              "      <th>0</th>\n",
              "      <td>10.1016/j.is.2013.09.002</td>\n",
              "      <td>1965015069</td>\n",
              "      <td>Discovering OLAP dimensions in semi-structured...</td>\n",
              "      <td>1500614872</td>\n",
              "    </tr>\n",
              "    <tr>\n",
              "      <th>1</th>\n",
              "      <td>10.1016/j.is.2013.09.002</td>\n",
              "      <td>1965015069</td>\n",
              "      <td>Discovering OLAP dimensions in semi-structured...</td>\n",
              "      <td>2101196063</td>\n",
              "    </tr>\n",
              "    <tr>\n",
              "      <th>2</th>\n",
              "      <td>10.1016/j.is.2013.09.002</td>\n",
              "      <td>1965015069</td>\n",
              "      <td>Discovering OLAP dimensions in semi-structured...</td>\n",
              "      <td>2151451758</td>\n",
              "    </tr>\n",
              "    <tr>\n",
              "      <th>3</th>\n",
              "      <td>10.1017/s1049096518001038</td>\n",
              "      <td>2899452135</td>\n",
              "      <td>Politics @Pontifex: International Crises and P...</td>\n",
              "      <td>2109223572</td>\n",
              "    </tr>\n",
              "    <tr>\n",
              "      <th>4</th>\n",
              "      <td>10.1080/10550887.2015.1074505</td>\n",
              "      <td>2160578232</td>\n",
              "      <td>Drug Use in the Twittersphere: A Qualitative C...</td>\n",
              "      <td>2151919021</td>\n",
              "    </tr>\n",
              "    <tr>\n",
              "      <th>...</th>\n",
              "      <td>...</td>\n",
              "      <td>...</td>\n",
              "      <td>...</td>\n",
              "      <td>...</td>\n",
              "    </tr>\n",
              "    <tr>\n",
              "      <th>38272</th>\n",
              "      <td>10.4018/ijt.2019070104</td>\n",
              "      <td>2947562382</td>\n",
              "      <td>Social Media to Social Media Analytics: Ethica...</td>\n",
              "      <td>2898759334</td>\n",
              "    </tr>\n",
              "    <tr>\n",
              "      <th>38273</th>\n",
              "      <td>10.1007/s00521-014-1642-9</td>\n",
              "      <td>2020215385</td>\n",
              "      <td>Study of collective user behaviour in Twitter:...</td>\n",
              "      <td>1976320242</td>\n",
              "    </tr>\n",
              "    <tr>\n",
              "      <th>38274</th>\n",
              "      <td>10.1007/s00521-014-1642-9</td>\n",
              "      <td>2020215385</td>\n",
              "      <td>Study of collective user behaviour in Twitter:...</td>\n",
              "      <td>2060907774</td>\n",
              "    </tr>\n",
              "    <tr>\n",
              "      <th>38275</th>\n",
              "      <td>10.1007/s00521-014-1642-9</td>\n",
              "      <td>2020215385</td>\n",
              "      <td>Study of collective user behaviour in Twitter:...</td>\n",
              "      <td>2118160723</td>\n",
              "    </tr>\n",
              "    <tr>\n",
              "      <th>38276</th>\n",
              "      <td>10.1007/s00521-014-1642-9</td>\n",
              "      <td>2020215385</td>\n",
              "      <td>Study of collective user behaviour in Twitter:...</td>\n",
              "      <td>2159929500</td>\n",
              "    </tr>\n",
              "  </tbody>\n",
              "</table>\n",
              "<p>38277 rows × 4 columns</p>\n",
              "</div>"
            ],
            "text/plain": [
              "                                 DOI          ID  \\\n",
              "0           10.1016/j.is.2013.09.002  1965015069   \n",
              "1           10.1016/j.is.2013.09.002  1965015069   \n",
              "2           10.1016/j.is.2013.09.002  1965015069   \n",
              "3          10.1017/s1049096518001038  2899452135   \n",
              "4      10.1080/10550887.2015.1074505  2160578232   \n",
              "...                              ...         ...   \n",
              "38272         10.4018/ijt.2019070104  2947562382   \n",
              "38273      10.1007/s00521-014-1642-9  2020215385   \n",
              "38274      10.1007/s00521-014-1642-9  2020215385   \n",
              "38275      10.1007/s00521-014-1642-9  2020215385   \n",
              "38276      10.1007/s00521-014-1642-9  2020215385   \n",
              "\n",
              "                                                   Title   reference  \n",
              "0      Discovering OLAP dimensions in semi-structured...  1500614872  \n",
              "1      Discovering OLAP dimensions in semi-structured...  2101196063  \n",
              "2      Discovering OLAP dimensions in semi-structured...  2151451758  \n",
              "3      Politics @Pontifex: International Crises and P...  2109223572  \n",
              "4      Drug Use in the Twittersphere: A Qualitative C...  2151919021  \n",
              "...                                                  ...         ...  \n",
              "38272  Social Media to Social Media Analytics: Ethica...  2898759334  \n",
              "38273  Study of collective user behaviour in Twitter:...  1976320242  \n",
              "38274  Study of collective user behaviour in Twitter:...  2060907774  \n",
              "38275  Study of collective user behaviour in Twitter:...  2118160723  \n",
              "38276  Study of collective user behaviour in Twitter:...  2159929500  \n",
              "\n",
              "[38277 rows x 4 columns]"
            ]
          },
          "execution_count": 4,
          "metadata": {},
          "output_type": "execute_result"
        }
      ]
    },
    {
      "cell_type": "markdown",
      "metadata": {
        "id": "eSAbmu8g0Ji-"
      },
      "source": [
        "**Find the year of citing publication**"
      ]
    },
    {
      "cell_type": "code",
      "metadata": {
        "id": "Muzjk1Xv0Ji-"
      },
      "source": [
        "import pandas as pd\n",
        "extend=pd.read_csv('extend.csv')"
      ],
      "execution_count": null,
      "outputs": []
    },
    {
      "cell_type": "code",
      "metadata": {
        "id": "naINgSJB0Ji-"
      },
      "source": [
        "df = pd.read_csv('Paper'+str(19)+'.txt', sep='\\t', iterator=True, chunksize=1000000,names=['citing','Rank','DOI','DocType','PaperTitle','OriginalTitle','BookTitle','Year','Date','OnlineDate','Publisher','JournalId','ConferenceSeriesId','ConferenceInstanceId','Volume','Issue','FirstPage','LastPage','ReferenceCount','CitationCount','EstimatedCitation','OriginalVenue','FamilyId','CreatedDate'])\n",
        "chunk_list = []\n",
        "for chunk in df:  \n",
        "    chunk_list.append(chunk)\n",
        "df_concat = pd.concat(chunk_list)\n",
        "part=pd.merge(extend,df_concat,on='citing')"
      ],
      "execution_count": null,
      "outputs": []
    },
    {
      "cell_type": "code",
      "metadata": {
        "id": "sjKWVyws0Ji_"
      },
      "source": [
        "part.to_csv('citing_year19.csv',index=False)"
      ],
      "execution_count": null,
      "outputs": []
    },
    {
      "cell_type": "code",
      "metadata": {
        "id": "n5YTL7NC0JjB"
      },
      "source": [
        "import pandas as pd\n",
        "ls=[]\n",
        "for i in range(20):\n",
        "    ls.append(pd.read_csv('citing_year'+str(i)+'.csv'))"
      ],
      "execution_count": null,
      "outputs": []
    },
    {
      "cell_type": "code",
      "metadata": {
        "id": "DMKddQk40JjB"
      },
      "source": [
        "citing=pd.concat(ls).reset_index(drop=True)"
      ],
      "execution_count": null,
      "outputs": []
    },
    {
      "cell_type": "code",
      "metadata": {
        "id": "C4sMXi2L0JjC"
      },
      "source": [
        "citing=citing[['citing','DOI_y','PaperTitle','Year']]"
      ],
      "execution_count": null,
      "outputs": []
    },
    {
      "cell_type": "code",
      "metadata": {
        "id": "GXZMlvfx0JjC"
      },
      "source": [
        "citing.to_csv('citing_year.csv',index=False)"
      ],
      "execution_count": null,
      "outputs": []
    },
    {
      "cell_type": "code",
      "metadata": {
        "scrolled": true,
        "id": "n26mYSfF0JjC"
      },
      "source": [
        "extend=citing[~citing['citing'].isin(data.ID)].reset_index(drop=True)"
      ],
      "execution_count": null,
      "outputs": []
    },
    {
      "cell_type": "code",
      "metadata": {
        "id": "t8Q-QO580JjD"
      },
      "source": [
        "extend.to_csv('extend.csv',index=False)"
      ],
      "execution_count": null,
      "outputs": []
    },
    {
      "cell_type": "markdown",
      "metadata": {
        "id": "YD-DA7-L0JjD"
      },
      "source": [
        "**Extend paper category**"
      ]
    },
    {
      "cell_type": "code",
      "metadata": {
        "id": "52aJ_fAZ0JjD"
      },
      "source": [
        "import pandas as pd\n",
        "data=pd.read_csv('node_extend.csv')\n",
        "#from paperid find papers \n",
        "df = pd.read_csv('Paper'+str(11)+'.txt', sep='\\t', iterator=True, chunksize=1000000,names=['PaperId','Rank','DOI','DocType','PaperTitle','OriginalTitle','BookTitle','Year','Date','OnlineDate','Publisher','JournalId','ConferenceSeriesId','ConferenceInstanceId','Volume','Issue','FirstPage','LastPage','ReferenceCount','CitationCount','EstimatedCitation','OriginalVenue','FamilyId','CreatedDate'])\n",
        "chunk_list = []\n",
        "for chunk in df:  \n",
        "    chunk_list.append(chunk)\n",
        "df_concat = pd.concat(chunk_list)\n",
        "df_concat.DOI=df_concat.DOI.str.lower()\n",
        "part=pd.merge(data,df_concat,on='DOI')"
      ],
      "execution_count": null,
      "outputs": []
    },
    {
      "cell_type": "code",
      "metadata": {
        "id": "Wq0CUUM90JjE"
      },
      "source": [
        "part.to_csv('coci_extend11.csv',index=False)"
      ],
      "execution_count": null,
      "outputs": []
    },
    {
      "cell_type": "code",
      "metadata": {
        "id": "r0HZUpQC0JjE"
      },
      "source": [
        "ls=[]\n",
        "for i in range(20):\n",
        "    ls.append(pd.read_csv('coci_extend'+str(i)+'.csv'))"
      ],
      "execution_count": null,
      "outputs": []
    },
    {
      "cell_type": "code",
      "metadata": {
        "id": "QRIPvCQW0JjE"
      },
      "source": [
        "a=pd.concat(ls).reset_index(drop=True)"
      ],
      "execution_count": null,
      "outputs": []
    },
    {
      "cell_type": "code",
      "metadata": {
        "id": "1joSmmfi0JjF",
        "outputId": "fc41b9db-df39-4483-adaa-be7ca797d4e9"
      },
      "source": [
        "28338/len(data) #percentage"
      ],
      "execution_count": null,
      "outputs": [
        {
          "data": {
            "text/plain": [
              "0.9530824336595701"
            ]
          },
          "execution_count": 7,
          "metadata": {},
          "output_type": "execute_result"
        }
      ]
    },
    {
      "cell_type": "code",
      "metadata": {
        "id": "TWViJCKF0JjF"
      },
      "source": [
        "a=a.drop_duplicates(subset=['DOI'])[['DOI', 'PaperId', 'Rank', 'DocType', 'PaperTitle', 'OriginalTitle',\n",
        "       'BookTitle', 'Year', 'Date',  'Publisher', 'JournalId',\n",
        "       'ConferenceSeriesId', 'ConferenceInstanceId', 'Volume', 'Issue',\n",
        "       'FirstPage', 'LastPage', 'ReferenceCount', 'CitationCount',\n",
        "       'EstimatedCitation', 'OriginalVenue', 'FamilyId', 'CreatedDate','OnlineDate']]"
      ],
      "execution_count": null,
      "outputs": []
    },
    {
      "cell_type": "code",
      "metadata": {
        "id": "zsf5MEaD0JjG"
      },
      "source": [
        "a.columns=['DOI', 'PaperId', 'Rank', 'DocType', 'PaperTitle', 'OriginalTitle',\n",
        "       'BookTitle', 'Year', 'Date',  'Publisher', 'JournalId',\n",
        "       'ConferenceSeriesId', 'ConferenceInstanceId', 'Volume', 'Issue',\n",
        "       'FirstPage', 'LastPage', 'ReferenceCount', 'CitationCount',\n",
        "       'EstimatedCitation', 'OriginalVenue', 'FamilyId', 'CreatedDate','OnlineDate']"
      ],
      "execution_count": null,
      "outputs": []
    },
    {
      "cell_type": "code",
      "metadata": {
        "id": "dK_LIlNA0JjG"
      },
      "source": [
        "a=a.drop(columns='OnlineDate')"
      ],
      "execution_count": null,
      "outputs": []
    },
    {
      "cell_type": "code",
      "metadata": {
        "id": "Omx_XvSq0JjG"
      },
      "source": [
        "a.to_csv('coci-references.csv',index=False)"
      ],
      "execution_count": null,
      "outputs": []
    },
    {
      "cell_type": "code",
      "metadata": {
        "id": "RjPQuSu50JjH"
      },
      "source": [
        "import pandas as pd\n",
        "data=pd.read_csv('coci-references.csv')"
      ],
      "execution_count": null,
      "outputs": []
    },
    {
      "cell_type": "code",
      "metadata": {
        "id": "xjg9HWon0JjI"
      },
      "source": [
        "#from paperid find fieldofstudyId\n",
        "articles=[]\n",
        "dfs=[]\n",
        "for i in range(6,10):\n",
        "    df = pd.read_csv('FieldId'+str(i)+'.txt', sep='\\t', iterator=True, chunksize=1000000,names=['PaperId','FieldId','score'])\n",
        "    chunk_list = []\n",
        "    for chunk in df:  \n",
        "        chunk_list.append(chunk)\n",
        "    df_concat = pd.concat(chunk_list)\n",
        "    dfs.append(df_concat)\n",
        "    articles.append(pd.merge(data,df_concat,on='PaperId'))"
      ],
      "execution_count": null,
      "outputs": []
    },
    {
      "cell_type": "code",
      "metadata": {
        "id": "GI_F7HtB0JjI"
      },
      "source": [
        "articles[0].to_csv('ref_field6.csv',index=False)\n",
        "articles[1].to_csv('ref_field7.csv',index=False)\n",
        "articles[2].to_csv('ref_field8.csv',index=False)\n",
        "articles[3].to_csv('ref_field9.csv',index=False)"
      ],
      "execution_count": null,
      "outputs": []
    },
    {
      "cell_type": "code",
      "metadata": {
        "id": "9Lx_78aN0JjI"
      },
      "source": [
        "ls=[]\n",
        "for i in range(10):\n",
        "    ls.append(pd.read_csv('ref_field'+str(i)+'.csv'))"
      ],
      "execution_count": null,
      "outputs": []
    },
    {
      "cell_type": "code",
      "metadata": {
        "id": "Q_ezxYoN0JjI"
      },
      "source": [
        "a=pd.concat(ls).reset_index(drop=True)"
      ],
      "execution_count": null,
      "outputs": []
    },
    {
      "cell_type": "code",
      "metadata": {
        "id": "E92DePDf0JjI"
      },
      "source": [
        "a.to_csv('ref_fieldid.csv',index=False)"
      ],
      "execution_count": null,
      "outputs": []
    },
    {
      "cell_type": "code",
      "metadata": {
        "id": "IcC5MFAN0JjJ"
      },
      "source": [
        "import pandas as pd\n",
        "data=pd.read_csv('ref_fieldid.csv')"
      ],
      "execution_count": null,
      "outputs": []
    },
    {
      "cell_type": "code",
      "metadata": {
        "id": "NqqB6AF-0JjJ",
        "outputId": "70a374af-b096-4c3f-96ea-845da67755fe"
      },
      "source": [
        "data.head()"
      ],
      "execution_count": null,
      "outputs": [
        {
          "data": {
            "text/html": [
              "<div>\n",
              "<style scoped>\n",
              "    .dataframe tbody tr th:only-of-type {\n",
              "        vertical-align: middle;\n",
              "    }\n",
              "\n",
              "    .dataframe tbody tr th {\n",
              "        vertical-align: top;\n",
              "    }\n",
              "\n",
              "    .dataframe thead th {\n",
              "        text-align: right;\n",
              "    }\n",
              "</style>\n",
              "<table border=\"1\" class=\"dataframe\">\n",
              "  <thead>\n",
              "    <tr style=\"text-align: right;\">\n",
              "      <th></th>\n",
              "      <th>DOI</th>\n",
              "      <th>PaperId</th>\n",
              "      <th>Rank</th>\n",
              "      <th>DocType</th>\n",
              "      <th>PaperTitle</th>\n",
              "      <th>OriginalTitle</th>\n",
              "      <th>BookTitle</th>\n",
              "      <th>Year</th>\n",
              "      <th>Date</th>\n",
              "      <th>Publisher</th>\n",
              "      <th>...</th>\n",
              "      <th>FirstPage</th>\n",
              "      <th>LastPage</th>\n",
              "      <th>ReferenceCount</th>\n",
              "      <th>CitationCount</th>\n",
              "      <th>EstimatedCitation</th>\n",
              "      <th>OriginalVenue</th>\n",
              "      <th>FamilyId</th>\n",
              "      <th>CreatedDate</th>\n",
              "      <th>FieldId</th>\n",
              "      <th>score</th>\n",
              "    </tr>\n",
              "  </thead>\n",
              "  <tbody>\n",
              "    <tr>\n",
              "      <th>0</th>\n",
              "      <td>10.1145/2187836.2187871</td>\n",
              "      <td>2020221730</td>\n",
              "      <td>17784</td>\n",
              "      <td>Conference</td>\n",
              "      <td>dynamical classes of collective attention in t...</td>\n",
              "      <td>Dynamical classes of collective attention in t...</td>\n",
              "      <td>WWW</td>\n",
              "      <td>2012.0</td>\n",
              "      <td>2012-04-16</td>\n",
              "      <td>ACM</td>\n",
              "      <td>...</td>\n",
              "      <td>251.0</td>\n",
              "      <td>260.0</td>\n",
              "      <td>37.0</td>\n",
              "      <td>216.0</td>\n",
              "      <td>285.0</td>\n",
              "      <td>the web conference</td>\n",
              "      <td>2.020222e+09</td>\n",
              "      <td>2016-06-24</td>\n",
              "      <td>86256295</td>\n",
              "      <td>0.485299</td>\n",
              "    </tr>\n",
              "    <tr>\n",
              "      <th>1</th>\n",
              "      <td>10.1145/2187836.2187871</td>\n",
              "      <td>2020221730</td>\n",
              "      <td>17784</td>\n",
              "      <td>Conference</td>\n",
              "      <td>dynamical classes of collective attention in t...</td>\n",
              "      <td>Dynamical classes of collective attention in t...</td>\n",
              "      <td>WWW</td>\n",
              "      <td>2012.0</td>\n",
              "      <td>2012-04-16</td>\n",
              "      <td>ACM</td>\n",
              "      <td>...</td>\n",
              "      <td>251.0</td>\n",
              "      <td>260.0</td>\n",
              "      <td>37.0</td>\n",
              "      <td>216.0</td>\n",
              "      <td>285.0</td>\n",
              "      <td>the web conference</td>\n",
              "      <td>2.020222e+09</td>\n",
              "      <td>2016-06-24</td>\n",
              "      <td>143275388</td>\n",
              "      <td>0.549903</td>\n",
              "    </tr>\n",
              "    <tr>\n",
              "      <th>2</th>\n",
              "      <td>10.1145/2187836.2187871</td>\n",
              "      <td>2020221730</td>\n",
              "      <td>17784</td>\n",
              "      <td>Conference</td>\n",
              "      <td>dynamical classes of collective attention in t...</td>\n",
              "      <td>Dynamical classes of collective attention in t...</td>\n",
              "      <td>WWW</td>\n",
              "      <td>2012.0</td>\n",
              "      <td>2012-04-16</td>\n",
              "      <td>ACM</td>\n",
              "      <td>...</td>\n",
              "      <td>251.0</td>\n",
              "      <td>260.0</td>\n",
              "      <td>37.0</td>\n",
              "      <td>216.0</td>\n",
              "      <td>285.0</td>\n",
              "      <td>the web conference</td>\n",
              "      <td>2.020222e+09</td>\n",
              "      <td>2016-06-24</td>\n",
              "      <td>518677369</td>\n",
              "      <td>0.000000</td>\n",
              "    </tr>\n",
              "    <tr>\n",
              "      <th>3</th>\n",
              "      <td>10.1037/0033-2909.108.3.480</td>\n",
              "      <td>2149893809</td>\n",
              "      <td>17502</td>\n",
              "      <td>Journal</td>\n",
              "      <td>the case for motivated reasoning</td>\n",
              "      <td>The case for motivated reasoning.</td>\n",
              "      <td>NaN</td>\n",
              "      <td>1990.0</td>\n",
              "      <td>1990-01-01</td>\n",
              "      <td>American Psychological Association</td>\n",
              "      <td>...</td>\n",
              "      <td>480.0</td>\n",
              "      <td>498.0</td>\n",
              "      <td>100.0</td>\n",
              "      <td>4086.0</td>\n",
              "      <td>6692.0</td>\n",
              "      <td>Psychological Bulletin</td>\n",
              "      <td>NaN</td>\n",
              "      <td>2016-06-24</td>\n",
              "      <td>120936955</td>\n",
              "      <td>0.478684</td>\n",
              "    </tr>\n",
              "    <tr>\n",
              "      <th>4</th>\n",
              "      <td>10.1037/0033-2909.108.3.480</td>\n",
              "      <td>2149893809</td>\n",
              "      <td>17502</td>\n",
              "      <td>Journal</td>\n",
              "      <td>the case for motivated reasoning</td>\n",
              "      <td>The case for motivated reasoning.</td>\n",
              "      <td>NaN</td>\n",
              "      <td>1990.0</td>\n",
              "      <td>1990-01-01</td>\n",
              "      <td>American Psychological Association</td>\n",
              "      <td>...</td>\n",
              "      <td>480.0</td>\n",
              "      <td>498.0</td>\n",
              "      <td>100.0</td>\n",
              "      <td>4086.0</td>\n",
              "      <td>6692.0</td>\n",
              "      <td>Psychological Bulletin</td>\n",
              "      <td>NaN</td>\n",
              "      <td>2016-06-24</td>\n",
              "      <td>143299363</td>\n",
              "      <td>0.510120</td>\n",
              "    </tr>\n",
              "  </tbody>\n",
              "</table>\n",
              "<p>5 rows × 25 columns</p>\n",
              "</div>"
            ],
            "text/plain": [
              "                           DOI     PaperId   Rank     DocType  \\\n",
              "0      10.1145/2187836.2187871  2020221730  17784  Conference   \n",
              "1      10.1145/2187836.2187871  2020221730  17784  Conference   \n",
              "2      10.1145/2187836.2187871  2020221730  17784  Conference   \n",
              "3  10.1037/0033-2909.108.3.480  2149893809  17502     Journal   \n",
              "4  10.1037/0033-2909.108.3.480  2149893809  17502     Journal   \n",
              "\n",
              "                                          PaperTitle  \\\n",
              "0  dynamical classes of collective attention in t...   \n",
              "1  dynamical classes of collective attention in t...   \n",
              "2  dynamical classes of collective attention in t...   \n",
              "3                   the case for motivated reasoning   \n",
              "4                   the case for motivated reasoning   \n",
              "\n",
              "                                       OriginalTitle BookTitle    Year  \\\n",
              "0  Dynamical classes of collective attention in t...       WWW  2012.0   \n",
              "1  Dynamical classes of collective attention in t...       WWW  2012.0   \n",
              "2  Dynamical classes of collective attention in t...       WWW  2012.0   \n",
              "3                  The case for motivated reasoning.       NaN  1990.0   \n",
              "4                  The case for motivated reasoning.       NaN  1990.0   \n",
              "\n",
              "         Date                           Publisher  ...  FirstPage  LastPage  \\\n",
              "0  2012-04-16                                 ACM  ...      251.0     260.0   \n",
              "1  2012-04-16                                 ACM  ...      251.0     260.0   \n",
              "2  2012-04-16                                 ACM  ...      251.0     260.0   \n",
              "3  1990-01-01  American Psychological Association  ...      480.0     498.0   \n",
              "4  1990-01-01  American Psychological Association  ...      480.0     498.0   \n",
              "\n",
              "   ReferenceCount  CitationCount  EstimatedCitation           OriginalVenue  \\\n",
              "0            37.0          216.0              285.0      the web conference   \n",
              "1            37.0          216.0              285.0      the web conference   \n",
              "2            37.0          216.0              285.0      the web conference   \n",
              "3           100.0         4086.0             6692.0  Psychological Bulletin   \n",
              "4           100.0         4086.0             6692.0  Psychological Bulletin   \n",
              "\n",
              "       FamilyId  CreatedDate    FieldId     score  \n",
              "0  2.020222e+09   2016-06-24   86256295  0.485299  \n",
              "1  2.020222e+09   2016-06-24  143275388  0.549903  \n",
              "2  2.020222e+09   2016-06-24  518677369  0.000000  \n",
              "3           NaN   2016-06-24  120936955  0.478684  \n",
              "4           NaN   2016-06-24  143299363  0.510120  \n",
              "\n",
              "[5 rows x 25 columns]"
            ]
          },
          "execution_count": 11,
          "metadata": {},
          "output_type": "execute_result"
        }
      ]
    },
    {
      "cell_type": "code",
      "metadata": {
        "id": "rWx7_Wzy0JjJ"
      },
      "source": [
        "#from fieldofstudyId to fieldofstudy\n",
        "df = pd.read_csv('FieldsofStudy.txt', sep='\\t', iterator=True, chunksize=1000000,names=['FieldId','Rank','NormalizedName','DisplayName','MainType','Level','PaperCount','PaperFamilyCount','CitationCount','CreatedDate'])\n",
        "chunk_list = []\n",
        "for chunk in df:  \n",
        "    chunk_list.append(chunk)\n",
        "df_concat = pd.concat(chunk_list)\n",
        "field=pd.merge(data,df_concat,on='FieldId')"
      ],
      "execution_count": null,
      "outputs": []
    },
    {
      "cell_type": "code",
      "metadata": {
        "id": "-rlVFXKo0JjJ"
      },
      "source": [
        "field_1=field[['DOI','PaperTitle','Year','Publisher','Level','score','NormalizedName']]"
      ],
      "execution_count": null,
      "outputs": []
    },
    {
      "cell_type": "code",
      "metadata": {
        "id": "Pja0FQf80JjJ"
      },
      "source": [
        "field_1 = field_1.astype(str)"
      ],
      "execution_count": null,
      "outputs": []
    },
    {
      "cell_type": "code",
      "metadata": {
        "id": "ftLdW9fI0JjK"
      },
      "source": [
        "first=field_1.groupby('DOI').agg({'PaperTitle':'first',\n",
        "                                 'Year': 'first', \n",
        "                         'Publisher': 'first',\n",
        "                                  'score': '; '.join,\n",
        "                                  'Level': '; '.join,\n",
        "                            'NormalizedName':'; '.join}).reset_index()"
      ],
      "execution_count": null,
      "outputs": []
    },
    {
      "cell_type": "code",
      "metadata": {
        "id": "aP90J6-90JjK"
      },
      "source": [
        "first.to_csv('referece_disc.csv',index=False)"
      ],
      "execution_count": null,
      "outputs": []
    },
    {
      "cell_type": "markdown",
      "metadata": {
        "id": "4w_Y2jh_0JjK"
      },
      "source": [
        "**Author**"
      ]
    },
    {
      "cell_type": "code",
      "metadata": {
        "id": "2-_Ptx_L0JjK"
      },
      "source": [
        "#articles that found in mag\n",
        "data=pd.read_csv('id_drop1.csv')"
      ],
      "execution_count": null,
      "outputs": []
    },
    {
      "cell_type": "code",
      "metadata": {
        "id": "8hpl-aBN0JjK"
      },
      "source": [
        "data.columns=['DOI', 'PaperId', 'Title']"
      ],
      "execution_count": null,
      "outputs": []
    },
    {
      "cell_type": "code",
      "metadata": {
        "id": "ut4pkDKx0JjL"
      },
      "source": [
        "#find all publications from the authors in mag\n",
        "ls=[]\n",
        "for i in range(10):\n",
        "    ls.append(pd.read_csv('part'+str(i)+'.csv'))"
      ],
      "execution_count": null,
      "outputs": []
    },
    {
      "cell_type": "code",
      "metadata": {
        "id": "JgufI9BI0JjL"
      },
      "source": [
        "a=pd.concat(ls).reset_index(drop=True)"
      ],
      "execution_count": null,
      "outputs": []
    },
    {
      "cell_type": "code",
      "metadata": {
        "id": "0ZKuQqik0JjL"
      },
      "source": [
        "data = data.astype(str)"
      ],
      "execution_count": null,
      "outputs": []
    },
    {
      "cell_type": "code",
      "metadata": {
        "id": "jqAEbSaa0JjL"
      },
      "source": [
        "#group by author id\n",
        "author_pub=data.groupby('AuthorId').agg({'OriginalAuthor_x': 'first',\n",
        "                              'OriginalAuthor_y': 'first',\n",
        "                             'PaperId': '; '.join, \n",
        "                                'AffiliationId': '; '.join,\n",
        "                                 'OriginalAffiliation': '; '.join,\n",
        "                                'AuthorSequenceNumber': '; '.join}).reset_index()"
      ],
      "execution_count": null,
      "outputs": []
    },
    {
      "cell_type": "code",
      "metadata": {
        "id": "wBWks8EH0JjL"
      },
      "source": [
        "#calculate the number of publications\n",
        "for i in range(len(author_pub)):\n",
        "    author_pub.loc[i,'Number_of_pub']=str(len(author_pub.PaperId[i].split('; ')))"
      ],
      "execution_count": null,
      "outputs": []
    },
    {
      "cell_type": "code",
      "metadata": {
        "id": "PShhf7XX0JjL"
      },
      "source": [
        "#rename columns\n",
        "author_pub.columns=['AuthorId', 'OriginalAuthor_x', 'OriginalAuthor_y', 'Full_PaperId',\n",
        "       'Full_AffiliationId', 'Full_OriginalAffiliation', 'Full_AuthorSequenceNumber',\n",
        "       'Number_of_pubs']"
      ],
      "execution_count": null,
      "outputs": []
    },
    {
      "cell_type": "code",
      "metadata": {
        "id": "8nbwHi100JjM"
      },
      "source": [
        "author_pub.to_csv('author_publications.csv',index=False)"
      ],
      "execution_count": null,
      "outputs": []
    },
    {
      "cell_type": "code",
      "metadata": {
        "id": "cQPVrowa0JjM"
      },
      "source": [
        "#author basic information\n",
        "data_1=pd.read_csv('author_information.csv')"
      ],
      "execution_count": null,
      "outputs": []
    },
    {
      "cell_type": "code",
      "metadata": {
        "id": "T5x9uFHn0JjM"
      },
      "source": [
        "data.columns=['AuthorId', 'OriginalAuthor', 'DOI', 'PaperId', 'Title',\n",
        "       'AffiliationId', 'OriginalAffiliation', 'AuthorSequenceNumber', 'Rank',\n",
        "       'NormalizedName', 'DisplayName', 'LastKnownAffiliationId', 'PaperCount',\n",
        "        'CitationCount', 'CreatedDate','n']"
      ],
      "execution_count": null,
      "outputs": []
    },
    {
      "cell_type": "code",
      "metadata": {
        "id": "Zo2zNUn60JjM"
      },
      "source": [
        "data_1=data_1.astype('str')"
      ],
      "execution_count": null,
      "outputs": []
    },
    {
      "cell_type": "code",
      "metadata": {
        "id": "MiiWNk9K0JjM"
      },
      "source": [
        "a=pd.merge(author_pub,data_1,on='AuthorId',how='outer')"
      ],
      "execution_count": null,
      "outputs": []
    },
    {
      "cell_type": "code",
      "metadata": {
        "id": "AsViqEpV0JjM"
      },
      "source": [
        "a.to_csv('author_publications_merged.csv',index=False)"
      ],
      "execution_count": null,
      "outputs": []
    },
    {
      "cell_type": "code",
      "metadata": {
        "id": "jVXy31kq0JjN"
      },
      "source": [
        "author = author.astype(str)"
      ],
      "execution_count": null,
      "outputs": []
    },
    {
      "cell_type": "code",
      "metadata": {
        "id": "NR7EKYzJ0JjN"
      },
      "source": [
        "author_norm=author.groupby('AuthorId').agg({'OriginalAuthor': 'first',\n",
        "                            'DOI':'; '.join, \n",
        "                             'PaperId': '; '.join, \n",
        "                             'Title': '; '.join,\n",
        "                                'AffiliationId': '; '.join,\n",
        "                                 'OriginalAffiliation': '; '.join,\n",
        "                                'AuthorSequenceNumber': '; '.join}).reset_index()"
      ],
      "execution_count": null,
      "outputs": []
    },
    {
      "cell_type": "code",
      "metadata": {
        "id": "Ip4c0xAN0JjN"
      },
      "source": [
        "#author found in paperauthor document\n",
        "author_norm.to_csv('author_mag.csv',index=False)"
      ],
      "execution_count": null,
      "outputs": []
    },
    {
      "cell_type": "code",
      "metadata": {
        "id": "svjYMBeL0JjN"
      },
      "source": [
        "#write 10 smaller documents\n",
        "with open('PaperAuthorAffiliations.txt',encoding='utf8') as infp:\n",
        "    files = [open('Aff%d.txt' % i, \"w\", encoding=\"utf-8\") for i in range(10)]\n",
        "    for i, line in enumerate(infp):\n",
        "        files[i % 10].write(line)\n",
        "    for f in files:\n",
        "        f.close()"
      ],
      "execution_count": null,
      "outputs": []
    },
    {
      "cell_type": "code",
      "metadata": {
        "id": "eyhdrDhL0JjN"
      },
      "source": [
        "with open('Authors.txt',encoding='utf8') as infp:\n",
        "    files = [open('Author%d.txt' % i, \"w\", encoding=\"utf-8\") for i in range(10)]\n",
        "    for i, line in enumerate(infp):\n",
        "        files[i % 10].write(line)\n",
        "    for f in files:\n",
        "        f.close()"
      ],
      "execution_count": null,
      "outputs": []
    },
    {
      "cell_type": "code",
      "metadata": {
        "id": "lBsiIfE40JjO"
      },
      "source": [
        "data_2=data_1[['AuthorId','OriginalAuthor']]"
      ],
      "execution_count": null,
      "outputs": []
    },
    {
      "cell_type": "code",
      "metadata": {
        "scrolled": true,
        "id": "iA7ZWTka0JjO"
      },
      "source": [
        "df = pd.read_csv('Aff'+str(9)+'.txt', sep='\\t', iterator=True, chunksize=1000000,names=['PaperId','AuthorId','AffiliationId','AuthorSequenceNumber','OriginalAuthor','OriginalAffiliation'])\n",
        "chunk_list = []\n",
        "for chunk in df:  \n",
        "    chunk_list.append(chunk)\n",
        "df_concat = pd.concat(chunk_list)"
      ],
      "execution_count": null,
      "outputs": []
    },
    {
      "cell_type": "code",
      "metadata": {
        "id": "dV7LoA460JjO"
      },
      "source": [
        "part=pd.merge(data_2,df_concat,on='AuthorId')"
      ],
      "execution_count": null,
      "outputs": []
    },
    {
      "cell_type": "code",
      "metadata": {
        "id": "9UA9k9NS0JjO"
      },
      "source": [
        "part.to_csv('author_pub9.csv',index=False)"
      ],
      "execution_count": null,
      "outputs": []
    },
    {
      "cell_type": "code",
      "metadata": {
        "id": "y8bn2D5V0JjO"
      },
      "source": [
        "#authors that found in paperauthor document but not in author document\n",
        "notfound=data_1[~data_1.AuthorId.isin(data.AuthorId)]"
      ],
      "execution_count": null,
      "outputs": []
    },
    {
      "cell_type": "code",
      "metadata": {
        "id": "ADwUiOXI0JjO",
        "outputId": "ec43b32e-d6a3-4821-ebf3-6e8fbe6ee16f"
      },
      "source": [
        "#chunk match\n",
        "dfs=[]\n",
        "parts=[]\n",
        "for i in range(3):\n",
        "    df = pd.read_csv('Author'+str(i)+'.txt', sep='\\t', iterator=True, chunksize=1000000,names=['AuthorId','Rank','NormalizedName','DisplayName','LastKnownAffiliationId','PaperCount','CitationCount','CreatedDate'])\n",
        "    chunk_list = []\n",
        "    for chunk in df:  \n",
        "        chunk_list.append(chunk)\n",
        "    df_concat = pd.concat(chunk_list)\n",
        "    dfs.append(df_concat)\n",
        "    parts.append(pd.merge(notfound,df_concat,on='AuthorId'))"
      ],
      "execution_count": null,
      "outputs": [
        {
          "name": "stdout",
          "output_type": "stream",
          "text": [
            "Empty DataFrame\n",
            "Columns: [AuthorId, OriginalAuthor, DOI, PaperId, Title, AffiliationId, OriginalAffiliation, AuthorSequenceNumber, Rank, NormalizedName, DisplayName, LastKnownAffiliationId, PaperCount, PaperFamilyCount, CitationCount, CreatedDate]\n",
            "Index: []\n"
          ]
        }
      ]
    },
    {
      "cell_type": "code",
      "metadata": {
        "id": "2gtnfp140JjP",
        "outputId": "b2d67ded-0e89-464c-ec90-8a6e357ffec6"
      },
      "source": [
        "len(notfound)"
      ],
      "execution_count": null,
      "outputs": [
        {
          "data": {
            "text/plain": [
              "38"
            ]
          },
          "execution_count": 22,
          "metadata": {},
          "output_type": "execute_result"
        }
      ]
    },
    {
      "cell_type": "markdown",
      "metadata": {
        "id": "Mfbez89q0JjP"
      },
      "source": [
        "**Test author name disambiguation**"
      ]
    },
    {
      "cell_type": "code",
      "metadata": {
        "id": "ICMBNWgh0JjP"
      },
      "source": [
        "import pandas as pd\n",
        "data=pd.read_csv('author_mag.csv')"
      ],
      "execution_count": null,
      "outputs": []
    },
    {
      "cell_type": "code",
      "metadata": {
        "id": "rXYpxZj30JjP"
      },
      "source": [
        "a=data.drop_duplicates(subset=['OriginalAuthor'])"
      ],
      "execution_count": null,
      "outputs": []
    },
    {
      "cell_type": "code",
      "metadata": {
        "id": "NBP_RM4S0JjP"
      },
      "source": [
        "b=data[~data.AuthorId.isin(a.AuthorId)].reset_index(drop=True)"
      ],
      "execution_count": null,
      "outputs": []
    },
    {
      "cell_type": "code",
      "metadata": {
        "id": "ciLj1y_x0JjP"
      },
      "source": [
        "import random\n",
        "ls=[random.randint(0,974) for i in range(10)]"
      ],
      "execution_count": null,
      "outputs": []
    },
    {
      "cell_type": "code",
      "metadata": {
        "id": "JQrgR0jS0JjP",
        "outputId": "db18bd33-2aad-478f-a5aa-c36f25e36832"
      },
      "source": [
        "ls"
      ],
      "execution_count": null,
      "outputs": [
        {
          "data": {
            "text/plain": [
              "[948, 803, 319, 695, 473, 35, 361, 477, 103, 535]"
            ]
          },
          "execution_count": 48,
          "metadata": {},
          "output_type": "execute_result"
        }
      ]
    },
    {
      "cell_type": "code",
      "metadata": {
        "id": "Fx6XLeEL0JjQ"
      },
      "source": [
        "l=[b.OriginalAuthor[i] for i in ls]"
      ],
      "execution_count": null,
      "outputs": []
    },
    {
      "cell_type": "code",
      "metadata": {
        "id": "W0lE_nWX0JjQ"
      },
      "source": [
        "l_=[]\n",
        "for i,j in data[data.OriginalAuthor.isin(l)].groupby('OriginalAuthor'):\n",
        "    l_.append(j)\n",
        "disa=pd.concat(l_)"
      ],
      "execution_count": null,
      "outputs": []
    },
    {
      "cell_type": "code",
      "metadata": {
        "id": "z-6SnXdk0JjQ"
      },
      "source": [
        "#merge the authors with the same original name\n",
        "publi=pub.groupby('OriginalAuthor_x').agg({'AuthorId': '; '.join,\n",
        "                                       'OriginalAuthor_y': '; '.join,\n",
        "                            'Doi':'; '.join, \n",
        "                                        'Year': '; '.join,\n",
        "                                       'Date': '; '.join,\n",
        "                            'Rank':'; '.join,\n",
        "                            'DocType':'; '.join,\n",
        "                             'PaperId': '; '.join,\n",
        "                              'PaperTitle': '; '.join,'OriginalTitle': '; '.join,'BookTitle': '; '.join,\n",
        "                                       'Publisher': '; '.join,\n",
        "                                       'JournalId': '; '.join,\n",
        "                                       'ConferenceSeriesId': '; '.join,\n",
        "                            'ConferenceInstanceId': '; '.join,  \n",
        "                             'Volume': '; '.join,\n",
        "                                'Issue': '; '.join,\n",
        "                                'FirstPage': '; '.join,\n",
        "                                'LastPage': '; '.join,\n",
        "                                'ReferenceCount': '; '.join,\n",
        "                                       'CitationCount': '; '.join,\n",
        "                                       'EstimatedCitation': '; '.join,\n",
        "                                       'OriginalVenue': '; '.join,\n",
        "                                       'CreatedDate': '; '.join,\n",
        "                                       'FamilyId': '; '.join,\n",
        "                                'AffiliationId': '; '.join,\n",
        "                                 'OriginalAffiliation': '; '.join,\n",
        "                                'AuthorSequenceNumber': '; '.join}).reset_index()"
      ],
      "execution_count": null,
      "outputs": []
    },
    {
      "cell_type": "markdown",
      "metadata": {
        "id": "B7nB-Z0V0JjQ"
      },
      "source": [
        "**Articles**"
      ]
    },
    {
      "cell_type": "code",
      "metadata": {
        "id": "g8DDrHDS0JjQ"
      },
      "source": [
        "#write 20 smaller documents\n",
        "with open('Papers.txt',encoding='utf8') as infp:\n",
        "    files = [open('Paper%d.txt' % i, 'w',encoding='utf8') for i in range(20)]\n",
        "    for i, line in enumerate(infp):\n",
        "        files[i % 20].write(line)\n",
        "    for f in files:\n",
        "        f.close()"
      ],
      "execution_count": null,
      "outputs": []
    },
    {
      "cell_type": "code",
      "metadata": {
        "id": "Dcl2_A0N0JjQ"
      },
      "source": [
        "#get the full paper ids\n",
        "data=pd.read_csv('author_publications.csv')\n",
        "data['Full_PaperId']=data.Full_PaperId.str.split('; ')\n",
        "papers=data.Full_PaperId.explode().dropna()\n",
        "papers.to_csv('full_id.csv',index=False)"
      ],
      "execution_count": null,
      "outputs": []
    },
    {
      "cell_type": "code",
      "metadata": {
        "id": "4wjc9Gce0JjR"
      },
      "source": [
        "import pandas as pd\n",
        "data=pd.read_csv('full_id.csv')"
      ],
      "execution_count": null,
      "outputs": []
    },
    {
      "cell_type": "code",
      "metadata": {
        "id": "_XG2a5m10JjR"
      },
      "source": [
        "#from paperid find papers\n",
        "df = pd.read_csv('Paper'+str(0)+'.txt', sep='\\t', iterator=True, chunksize=1000000,names=['Full_PaperId','Rank','Doi','DocType','PaperTitle','OriginalTitle','BookTitle','Year','Date','OnlineDate','Publisher','JournalId','ConferenceSeriesId','ConferenceInstanceId','Volume','Issue','FirstPage','LastPage','ReferenceCount','CitationCount','EstimatedCitation','OriginalVenue','FamilyId','CreatedDate'])\n",
        "chunk_list = []\n",
        "for chunk in df:  \n",
        "    chunk_list.append(chunk)\n",
        "df_concat = pd.concat(chunk_list)\n",
        "part=pd.merge(data,df_concat,on='Full_PaperId')"
      ],
      "execution_count": null,
      "outputs": []
    },
    {
      "cell_type": "code",
      "metadata": {
        "id": "PKAvHpMK0JjR"
      },
      "source": [
        "part.to_csv('author_background_publications19.csv',index=False)"
      ],
      "execution_count": null,
      "outputs": []
    },
    {
      "cell_type": "code",
      "metadata": {
        "id": "DAQDxMo80JjR"
      },
      "source": [
        "#find academic age from the authors in mag\n",
        "ls=[]\n",
        "for i in range(20):\n",
        "    ls.append(pd.read_csv('author_background_publications'+str(i)+'.csv'))\n",
        "articles=pd.concat(ls).reset_index(drop=True)"
      ],
      "execution_count": null,
      "outputs": []
    },
    {
      "cell_type": "code",
      "metadata": {
        "id": "NHyi8VWd0JjR",
        "outputId": "a710a2fc-c4f3-4a31-cc0f-852a774de7e1"
      },
      "source": [
        "len(articles.Full_PaperId.unique())"
      ],
      "execution_count": null,
      "outputs": [
        {
          "data": {
            "text/plain": [
              "1278331"
            ]
          },
          "execution_count": 26,
          "metadata": {},
          "output_type": "execute_result"
        }
      ]
    },
    {
      "cell_type": "code",
      "metadata": {
        "id": "s5fGodVu0JjR"
      },
      "source": [
        "#find all publications from the authors in mag\n",
        "ls=[]\n",
        "for i in range(10):\n",
        "    ls.append(pd.read_csv('author_pub'+str(i)+'.csv'))\n",
        "author=pd.concat(ls).reset_index(drop=True)"
      ],
      "execution_count": null,
      "outputs": []
    },
    {
      "cell_type": "code",
      "metadata": {
        "id": "CZmQpxSH0JjS"
      },
      "source": [
        "articles.columns=['PaperId', 'Rank', 'Doi', 'DocType', 'PaperTitle', 'OriginalTitle',\n",
        "       'BookTitle', 'Year', 'Date', 'OnlineDate', 'Publisher', 'JournalId',\n",
        "       'ConferenceSeriesId', 'ConferenceInstanceId', 'Volume', 'Issue',\n",
        "       'FirstPage', 'LastPage', 'ReferenceCount', 'CitationCount',\n",
        "       'EstimatedCitation', 'OriginalVenue', 'FamilyId', 'CreatedDate']"
      ],
      "execution_count": null,
      "outputs": []
    },
    {
      "cell_type": "code",
      "metadata": {
        "id": "Gi4FbUmD0JjS"
      },
      "source": [
        "author=author.astype(str)\n",
        "articles=articles.astype(str)"
      ],
      "execution_count": null,
      "outputs": []
    },
    {
      "cell_type": "code",
      "metadata": {
        "id": "4lOJaFW00JjS"
      },
      "source": [
        "merge=author.merge(articles,on='PaperId',how='left')"
      ],
      "execution_count": null,
      "outputs": []
    },
    {
      "cell_type": "code",
      "metadata": {
        "id": "nCaKD_oj0JjS"
      },
      "source": [
        "merge.columns=['AuthorId', 'OriginalAuthor_x', 'PaperId', 'AffiliationId',\n",
        "       'AuthorSequenceNumber', 'OriginalAuthor_y', 'OriginalAffiliation',\n",
        "       'Rank', 'Doi', 'DocType', 'PaperTitle', 'OriginalTitle', 'BookTitle',\n",
        "       'Year', 'Date', 'Publisher', 'JournalId',\n",
        "       'ConferenceSeriesId', 'ConferenceInstanceId', 'Volume', 'Issue',\n",
        "       'FirstPage', 'LastPage', 'ReferenceCount', 'CitationCount',\n",
        "       'EstimatedCitation', 'OriginalVenue', 'FamilyId', 'CreatedDate','OnlineDate']"
      ],
      "execution_count": null,
      "outputs": []
    },
    {
      "cell_type": "code",
      "metadata": {
        "id": "lRfPQbLc0JjT"
      },
      "source": [
        "merge=merge.drop(columns=['OnlineDate'])"
      ],
      "execution_count": null,
      "outputs": []
    },
    {
      "cell_type": "code",
      "metadata": {
        "id": "GACfxK0_0JjU",
        "outputId": "b85c05d1-91f5-4bbc-9dd1-9417aee35606"
      },
      "source": [
        "merge.columns"
      ],
      "execution_count": null,
      "outputs": [
        {
          "data": {
            "text/plain": [
              "Index(['AuthorId', 'OriginalAuthor_x', 'PaperId', 'AffiliationId',\n",
              "       'AuthorSequenceNumber', 'OriginalAuthor_y', 'OriginalAffiliation',\n",
              "       'Rank', 'Doi', 'DocType', 'PaperTitle', 'OriginalTitle', 'BookTitle',\n",
              "       'Year', 'Date', 'Publisher', 'JournalId', 'ConferenceSeriesId',\n",
              "       'ConferenceInstanceId', 'Volume', 'Issue', 'FirstPage', 'LastPage',\n",
              "       'ReferenceCount', 'CitationCount', 'EstimatedCitation', 'OriginalVenue',\n",
              "       'FamilyId', 'CreatedDate'],\n",
              "      dtype='object')"
            ]
          },
          "execution_count": 34,
          "metadata": {},
          "output_type": "execute_result"
        }
      ]
    },
    {
      "cell_type": "code",
      "metadata": {
        "id": "VFXjoS5P0JjV"
      },
      "source": [
        "author = author.astype(str)"
      ],
      "execution_count": null,
      "outputs": []
    },
    {
      "cell_type": "code",
      "metadata": {
        "id": "d6hzhPHp0JjV"
      },
      "source": [
        "merge=merge.astype(str)\n",
        "merge=merge.drop_duplicates()"
      ],
      "execution_count": null,
      "outputs": []
    },
    {
      "cell_type": "code",
      "metadata": {
        "id": "jZ__vjfn0JjV"
      },
      "source": [
        "merge_1=merge.groupby('AuthorId').agg({\n",
        "                                       'OriginalAuthor_x': 'first',\n",
        "                            'Doi':'; '.join, \n",
        "                                        'Year': '; '.join,\n",
        "                                       'Date': '; '.join,\n",
        "                             'PaperId': '; '.join,\n",
        "                              'PaperTitle': '; '.join,'OriginalTitle': '; '.join,\n",
        "                                       'Publisher': '; '.join,\n",
        "                                       'JournalId': '; '.join,\n",
        "                                       'ConferenceSeriesId': '; '.join,\n",
        "                                'ReferenceCount': '; '.join,\n",
        "                                       'CitationCount': '; '.join,\n",
        "                                       'EstimatedCitation': '; '.join,\n",
        "                                       'OriginalVenue': '; '.join,\n",
        "                                       'CreatedDate': '; '.join,\n",
        "                                'AffiliationId': '; '.join,\n",
        "                                 'OriginalAffiliation': '; '.join,\n",
        "                                'AuthorSequenceNumber': '; '.join}).reset_index()"
      ],
      "execution_count": null,
      "outputs": []
    },
    {
      "cell_type": "code",
      "metadata": {
        "id": "qtAwHjPc0JjV",
        "outputId": "87216b11-eafc-4ba9-d020-aa5b8fe7ee1d"
      },
      "source": [
        "merge_1.shape"
      ],
      "execution_count": null,
      "outputs": [
        {
          "data": {
            "text/plain": [
              "(29458, 19)"
            ]
          },
          "execution_count": 59,
          "metadata": {},
          "output_type": "execute_result"
        }
      ]
    },
    {
      "cell_type": "code",
      "metadata": {
        "id": "CCIbpt6H0JjW"
      },
      "source": [
        "merge_1['AcademicAge']=merge_1.Year"
      ],
      "execution_count": null,
      "outputs": []
    },
    {
      "cell_type": "code",
      "metadata": {
        "id": "i_8F16Xa0JjW"
      },
      "source": [
        "merge_1=merge_1.astype(str)"
      ],
      "execution_count": null,
      "outputs": []
    },
    {
      "cell_type": "code",
      "metadata": {
        "id": "kbDqujU60JjW"
      },
      "source": [
        "for i in range(len(merge_1)):\n",
        "    try:\n",
        "        merge_1.loc[i,'AcademicAge']=min([int(float(j[:4])) for j in merge_1.AcademicAge.to_list()[i].split('; ') if j not in 'nan'])\n",
        "    except:\n",
        "        pass"
      ],
      "execution_count": null,
      "outputs": []
    },
    {
      "cell_type": "code",
      "metadata": {
        "id": "KZP7uiGk0JjW",
        "outputId": "890e249a-799f-4ce8-a5d8-d97908fa4b68"
      },
      "source": [
        "merge_1.AcademicAge.unique()"
      ],
      "execution_count": null,
      "outputs": [
        {
          "data": {
            "text/plain": [
              "array([1996, 1998, 1997, 2010, 2009, 2007, 2012, 2011, 1989, 2015, 2006,\n",
              "       2003, 1991, 2001, 2004, 1994, 2008, 2005, 2002, 2013, 1999, 1977,\n",
              "       1970, 1995, 2000, 1993, 1990, 1988, 1971, 1984, 1983, 1982, 2014,\n",
              "       1965, 1985, 1987, 1992, 1978, 1986, 1868, 1980, 1800, 1975, 2017,\n",
              "       1981, 2016, 1979, 1974, 1973, 1976, 1969, 2019, 1879, 1972, 2018,\n",
              "       1968, 1967, 1964, 1900, 'nan', 1966, 1962, 1959, 1847, 1956, 1944,\n",
              "       1929, 1903, 1927, 1899, 1896, 1943, 1854, 1932, 1945, 1928, 1957,\n",
              "       1930, 1891, 1862, 1953, 1958, 1963, 1911, 1939, 1961, 1942, 1870,\n",
              "       1831, 1920, 1941, 1926, 1924, 1851, 1960, 1824, 1938, 1937, 1936,\n",
              "       1828, 1846, 'nan; nan', 1855, 2020, 1848, 1935, 1949], dtype=object)"
            ]
          },
          "execution_count": 65,
          "metadata": {},
          "output_type": "execute_result"
        }
      ]
    },
    {
      "cell_type": "code",
      "metadata": {
        "id": "BedqFkD50JjW"
      },
      "source": [
        "merge_1.columns=['AuthorId', 'OriginalAuthor_x', 'OriginalAuthor_y', 'Doi', 'Year',\n",
        "       'Date', 'Rank', 'DocType', 'PaperId', 'PaperTitle', 'OriginalTitle',\n",
        "       'BookTitle', 'Publisher', 'JournalId', 'ConferenceSeriesId',\n",
        "       'ConferenceInstanceId', 'Volume', 'Issue', 'FirstPage', 'LastPage',\n",
        "       'ReferenceCount', 'CitationCount', 'EstimatedCitation', 'OriginalVenue',\n",
        "       'CreatedDate', 'FamilyId', 'AffiliationId', 'OriginalAffiliation',\n",
        "       'AuthorSequenceNumber', 'AcademicAgeSince']"
      ],
      "execution_count": null,
      "outputs": []
    },
    {
      "cell_type": "code",
      "metadata": {
        "id": "k87UEZAv0JjX"
      },
      "source": [
        "merge_1.to_csv('author_academic_age.csv',index=False)"
      ],
      "execution_count": null,
      "outputs": []
    },
    {
      "cell_type": "code",
      "metadata": {
        "id": "f2ec60IF0JjX"
      },
      "source": [
        "merge_1.dropna(subset=['AcademicAgeSince'])"
      ],
      "execution_count": null,
      "outputs": []
    },
    {
      "cell_type": "code",
      "metadata": {
        "id": "z_NXQeOo0JjX"
      },
      "source": [
        "#test if the articles counts are right\n",
        "import pandas as pd\n",
        "data=pd.read_csv('author_information.csv')"
      ],
      "execution_count": null,
      "outputs": []
    },
    {
      "cell_type": "code",
      "metadata": {
        "id": "yJgkv7tF0JjX",
        "outputId": "f74c3d3e-d008-4688-f660-a029a532652e"
      },
      "source": [
        "data_1[data_1.OriginalAuthor=='Kingsley Purdam']"
      ],
      "execution_count": null,
      "outputs": [
        {
          "data": {
            "text/html": [
              "<div>\n",
              "<style scoped>\n",
              "    .dataframe tbody tr th:only-of-type {\n",
              "        vertical-align: middle;\n",
              "    }\n",
              "\n",
              "    .dataframe tbody tr th {\n",
              "        vertical-align: top;\n",
              "    }\n",
              "\n",
              "    .dataframe thead th {\n",
              "        text-align: right;\n",
              "    }\n",
              "</style>\n",
              "<table border=\"1\" class=\"dataframe\">\n",
              "  <thead>\n",
              "    <tr style=\"text-align: right;\">\n",
              "      <th></th>\n",
              "      <th>AuthorId</th>\n",
              "      <th>OriginalAuthor</th>\n",
              "      <th>DOI</th>\n",
              "      <th>PaperId</th>\n",
              "      <th>Title</th>\n",
              "      <th>AffiliationId</th>\n",
              "      <th>OriginalAffiliation</th>\n",
              "      <th>AuthorSequenceNumber</th>\n",
              "      <th>Rank</th>\n",
              "      <th>NormalizedName</th>\n",
              "      <th>DisplayName</th>\n",
              "      <th>LastKnownAffiliationId</th>\n",
              "      <th>PaperCount</th>\n",
              "      <th>CitationCount</th>\n",
              "      <th>CreatedDate</th>\n",
              "    </tr>\n",
              "  </thead>\n",
              "  <tbody>\n",
              "    <tr>\n",
              "      <th>26466</th>\n",
              "      <td>100249880</td>\n",
              "      <td>Kingsley Purdam</td>\n",
              "      <td>10.1177/0011392114527997</td>\n",
              "      <td>2078729300</td>\n",
              "      <td>Citizen social science and citizen data? Metho...</td>\n",
              "      <td>28407311.0</td>\n",
              "      <td>University of Manchester, UK.#TAB#</td>\n",
              "      <td>1</td>\n",
              "      <td>16010</td>\n",
              "      <td>kingsley purdam</td>\n",
              "      <td>Kingsley Purdam</td>\n",
              "      <td>28407311.0</td>\n",
              "      <td>99</td>\n",
              "      <td>494</td>\n",
              "      <td>2016-06-24</td>\n",
              "    </tr>\n",
              "  </tbody>\n",
              "</table>\n",
              "</div>"
            ],
            "text/plain": [
              "        AuthorId   OriginalAuthor                       DOI     PaperId  \\\n",
              "26466  100249880  Kingsley Purdam  10.1177/0011392114527997  2078729300   \n",
              "\n",
              "                                                   Title AffiliationId  \\\n",
              "26466  Citizen social science and citizen data? Metho...    28407311.0   \n",
              "\n",
              "                      OriginalAffiliation AuthorSequenceNumber   Rank  \\\n",
              "26466  University of Manchester, UK.#TAB#                    1  16010   \n",
              "\n",
              "        NormalizedName      DisplayName  LastKnownAffiliationId  PaperCount  \\\n",
              "26466  kingsley purdam  Kingsley Purdam              28407311.0          99   \n",
              "\n",
              "       CitationCount CreatedDate  \n",
              "26466            494  2016-06-24  "
            ]
          },
          "execution_count": 125,
          "metadata": {},
          "output_type": "execute_result"
        }
      ]
    },
    {
      "cell_type": "markdown",
      "metadata": {
        "id": "9JmT3SnF0JjX"
      },
      "source": [
        "**First article discipline**"
      ]
    },
    {
      "cell_type": "code",
      "metadata": {
        "id": "6m5oyxpx0JjY"
      },
      "source": [
        "import pandas as pd\n",
        "import numpy as np"
      ],
      "execution_count": null,
      "outputs": []
    },
    {
      "cell_type": "code",
      "metadata": {
        "id": "EKimXkQ50JjY"
      },
      "source": [
        "pub=pd.read_csv('author_academic_age.csv')"
      ],
      "execution_count": null,
      "outputs": []
    },
    {
      "cell_type": "code",
      "metadata": {
        "id": "1fygvBqs0JjY"
      },
      "source": [
        "pub.to_csv('author_academic_age.csv', index=False)"
      ],
      "execution_count": null,
      "outputs": []
    },
    {
      "cell_type": "code",
      "metadata": {
        "id": "y6oxlj1r0JjY"
      },
      "source": [
        "pub['AcademicAge']=pub.Year"
      ],
      "execution_count": null,
      "outputs": []
    },
    {
      "cell_type": "code",
      "metadata": {
        "id": "QFIdc5n10JjY"
      },
      "source": [
        "pub = pub.astype(str)"
      ],
      "execution_count": null,
      "outputs": []
    },
    {
      "cell_type": "code",
      "metadata": {
        "id": "U3c8BUMq0JjZ"
      },
      "source": [
        "for i in range(len(articles.Year)):\n",
        "    n=articles.Year[i]\n",
        "    articles.loc[i,'Year']=str(n).replace(n,n[:4])       "
      ],
      "execution_count": null,
      "outputs": []
    },
    {
      "cell_type": "code",
      "metadata": {
        "id": "ukjmeYZd0JjZ"
      },
      "source": [
        "for n in range(len(pub)):\n",
        "    try:\n",
        "        a=np.argmin([int(float(i[:4])) for i in pub.Year.to_list()[n].replace('nan', '9999').split('; ') if i not in 'nan'])\n",
        "        pub.loc[n,'FirstId']=pub.PaperId[n].split('; ')[a]\n",
        "        pub.loc[n,'FirstDOI']=pub.Doi[n].split('; ')[a]\n",
        "        pub.loc[n,'FirstTitle']=pub.PaperTitle[n].split('; ')[a]\n",
        "        pub.loc[n,'FirstYear']=pub.Year[n].split('; ')[a]\n",
        "    except:\n",
        "        pub.loc[n,'FirstId']=pub.PaperId[n]\n",
        "        pub.loc[n,'FirstDOI']=pub.Doi[n]\n",
        "        pub.loc[n,'FirstTitle']=pub.PaperTitle[n]\n",
        "        pub.loc[n,'FirstYear']=pub.Year[n]"
      ],
      "execution_count": null,
      "outputs": []
    },
    {
      "cell_type": "code",
      "metadata": {
        "id": "o9avq8Ud0JjZ"
      },
      "source": [
        "#write 10 smaller documents\n",
        "with open('PaperFieldsofStudy.txt',encoding='utf8') as infp:\n",
        "    files = [open('FieldId%d.txt' % i, \"w\", encoding=\"utf-8\") for i in range(10)]\n",
        "    for i, line in enumerate(infp):\n",
        "        files[i % 10].write(line)\n",
        "    for f in files:\n",
        "        f.close()"
      ],
      "execution_count": null,
      "outputs": []
    },
    {
      "cell_type": "code",
      "metadata": {
        "id": "USpiBwsT0JjZ"
      },
      "source": [
        "first_1.to_csv('FirstId_1.csv',index=False)"
      ],
      "execution_count": null,
      "outputs": []
    },
    {
      "cell_type": "code",
      "metadata": {
        "id": "o1_BbrtW0JjZ"
      },
      "source": [
        "import pandas as pd\n",
        "first=pd.read_csv('FirstId_1.csv')\n",
        "data=pd.read_csv('Id_drop2.csv')"
      ],
      "execution_count": null,
      "outputs": []
    },
    {
      "cell_type": "code",
      "metadata": {
        "id": "k-zLn_x70JjZ"
      },
      "source": [
        "#from paperid find fieldofstudyId\n",
        "firsts=[]\n",
        "dfs=[]\n",
        "for i in range(4,7):\n",
        "    df = pd.read_csv('FieldId'+str(i)+'.txt', sep='\\t', iterator=True, chunksize=1000000,names=['FirstId','FieldId','score'])\n",
        "    chunk_list = []\n",
        "    for chunk in df:  \n",
        "        chunk_list.append(chunk)\n",
        "    df_concat = pd.concat(chunk_list)\n",
        "    dfs.append(df_concat)\n",
        "    firsts.append(pd.merge(first,df_concat,on='FirstId'))"
      ],
      "execution_count": null,
      "outputs": []
    },
    {
      "cell_type": "code",
      "metadata": {
        "id": "yacazh1M0Jja"
      },
      "source": [
        "firsts[0].to_csv('first_filed4.csv',index=False)\n",
        "firsts[1].to_csv('first_filed5.csv',index=False)\n",
        "firsts[2].to_csv('first_filed6.csv',index=False)"
      ],
      "execution_count": null,
      "outputs": []
    },
    {
      "cell_type": "code",
      "metadata": {
        "id": "fvXyfGMO0Jja"
      },
      "source": [
        "#find academic age from the authors in mag\n",
        "ls=[]\n",
        "for i in range(10):\n",
        "    ls.append(pd.read_csv('first_filed'+str(i)+'.csv'))\n",
        "firsts=pd.concat(ls).reset_index(drop=True)"
      ],
      "execution_count": null,
      "outputs": []
    },
    {
      "cell_type": "code",
      "metadata": {
        "id": "QhBAP1qu0Jja"
      },
      "source": [
        "#from fieldofstudyId to fieldofstudy\n",
        "df = pd.read_csv('FieldsofStudy.txt', sep='\\t', iterator=True, chunksize=1000000,names=['FieldId','Rank','NormalizedName','DisplayName','MainType','Level','PaperCount','PaperFamilyCount','CitationCount','CreatedDate'])\n",
        "chunk_list = []\n",
        "for chunk in df:  \n",
        "    chunk_list.append(chunk)\n",
        "df_concat = pd.concat(chunk_list)\n",
        "first=pd.merge(firsts,df_concat,on='FieldId')"
      ],
      "execution_count": null,
      "outputs": []
    },
    {
      "cell_type": "code",
      "metadata": {
        "id": "EpSjF8HP0Jja"
      },
      "source": [
        "first=first.drop_duplicates().reset_index(drop=True)"
      ],
      "execution_count": null,
      "outputs": []
    },
    {
      "cell_type": "code",
      "metadata": {
        "id": "X2h2Ebwk0Jjb"
      },
      "source": [
        "first=first.drop(columns=['CreatedDate'])"
      ],
      "execution_count": null,
      "outputs": []
    },
    {
      "cell_type": "code",
      "metadata": {
        "id": "J06S8Mim0Jjb"
      },
      "source": [
        "first.columns=['ID', 'FieldId', 'score', 'Rank', 'NormalizedName', 'DisplayName',\n",
        "       'MainType', 'Level', 'PaperCount', 'CitationCount','CreatedDate']"
      ],
      "execution_count": null,
      "outputs": []
    },
    {
      "cell_type": "code",
      "metadata": {
        "id": "B5ug7UDW0Jjb"
      },
      "source": [
        "first=first.astype(str)"
      ],
      "execution_count": null,
      "outputs": []
    },
    {
      "cell_type": "code",
      "metadata": {
        "id": "qfpAmL9d0Jjb"
      },
      "source": [
        "first_1=first.groupby('ID').agg({\n",
        "                                 'FieldId': '; '.join, \n",
        "                         'score': '; '.join,\n",
        "                          'Rank': '; '.join,\n",
        "                            'NormalizedName':'; '.join, \n",
        "                                        'DisplayName': '; '.join,\n",
        "                                       'Level': '; '.join,\n",
        "                               'PaperCount': '; '.join,\n",
        "                               'CitationCount': '; '.join,\n",
        "                              'CreatedDate': '; '.join}).reset_index()"
      ],
      "execution_count": null,
      "outputs": []
    },
    {
      "cell_type": "code",
      "metadata": {
        "id": "R1xSn49Z0Jjb"
      },
      "source": [
        "first_1.to_csv('first_article_category.csv',index=False)"
      ],
      "execution_count": null,
      "outputs": []
    },
    {
      "cell_type": "code",
      "metadata": {
        "id": "5yN7U8tE0Jjb"
      },
      "source": [
        "first=pd.read_csv('first_article_category.csv')"
      ],
      "execution_count": null,
      "outputs": []
    },
    {
      "cell_type": "code",
      "metadata": {
        "id": "1GT0vyDX0Jjb"
      },
      "source": [
        "first=first[['ID','Level','score','NormalizedName']]"
      ],
      "execution_count": null,
      "outputs": []
    },
    {
      "cell_type": "code",
      "metadata": {
        "id": "lfosto-u0Jjc"
      },
      "source": [
        "first.columns=['FirstId', 'Level','score', 'CategoryName']"
      ],
      "execution_count": null,
      "outputs": []
    },
    {
      "cell_type": "code",
      "metadata": {
        "id": "S6VyusAK0Jjc"
      },
      "source": [
        "pub_1=pub[['OriginalAuthor_x', 'AuthorId','AcademicAge', 'FirstId']]"
      ],
      "execution_count": null,
      "outputs": []
    },
    {
      "cell_type": "code",
      "metadata": {
        "id": "JTmiMxN40Jjc"
      },
      "source": [
        "pub_1=pub_1.astype(str)\n",
        "first_1=first_1.astype(str)"
      ],
      "execution_count": null,
      "outputs": []
    },
    {
      "cell_type": "code",
      "metadata": {
        "id": "2FXhrPH20Jjc"
      },
      "source": [
        "first_2=pub_1.merge(first_1,on=['FirstId'],how='outer')"
      ],
      "execution_count": null,
      "outputs": []
    },
    {
      "cell_type": "code",
      "metadata": {
        "id": "XuRFOHuB0Jjc"
      },
      "source": [
        "data=pd.read_csv('author_mag.csv')"
      ],
      "execution_count": null,
      "outputs": []
    },
    {
      "cell_type": "code",
      "metadata": {
        "id": "MZvDTuyH0Jjc"
      },
      "source": [
        "data_1=pd.read_csv('author_information.csv')"
      ],
      "execution_count": null,
      "outputs": []
    },
    {
      "cell_type": "code",
      "metadata": {
        "id": "HBjtKWCy0Jjd"
      },
      "source": [
        "data_2=data.merge(data_1,on=['AuthorId'],how='outer')"
      ],
      "execution_count": null,
      "outputs": []
    },
    {
      "cell_type": "code",
      "metadata": {
        "id": "AZQ3Pzcw0Jjd"
      },
      "source": [
        "author=data_2[['AuthorId', 'OriginalAuthor_x', 'DOI_x', 'PaperId_x', 'Title_x',\n",
        "       'AffiliationId_x', 'OriginalAffiliation_x', 'AuthorSequenceNumber_x','Rank',\n",
        "       'NormalizedName', 'DisplayName', 'LastKnownAffiliationId', 'PaperCount',\n",
        "       'CitationCount', 'CreatedDate']]"
      ],
      "execution_count": null,
      "outputs": []
    },
    {
      "cell_type": "code",
      "metadata": {
        "id": "jj0d8GLC0Jjd"
      },
      "source": [
        "author.columns=['AuthorId', 'OriginalAuthor_x', 'DOI', 'PaperId', 'Title',\n",
        "       'AffiliationId', 'OriginalAffiliation', 'AuthorSequenceNumber',\n",
        "       'Rank', 'NormalizedName', 'DisplayName', 'LastKnownAffiliationId',\n",
        "       'PaperCount', 'CitationCount', 'CreatedDate']\n",
        "author=author.astype(str)"
      ],
      "execution_count": null,
      "outputs": []
    },
    {
      "cell_type": "code",
      "metadata": {
        "id": "8i5YDTbY0Jjd"
      },
      "source": [
        "author_1=author.groupby('AuthorId').agg({\n",
        "    'OriginalAuthor_x':'first',\n",
        "                            'DOI':'; '.join, \n",
        "                             'PaperId': '; '.join,\n",
        "                              'Title': '; '.join,'AffiliationId': '; '.join,'OriginalAffiliation': '; '.join,\n",
        "                                       'AuthorSequenceNumber': '; '.join,\n",
        "                                       'Rank': '; '.join,\n",
        "                                       'NormalizedName': 'first',\n",
        "                            'LastKnownAffiliationId': '; '.join,\n",
        "                                            'PaperCount': '; '.join,\n",
        "                                       'CitationCount': '; '.join,'CreatedDate':': '.join}).reset_index()"
      ],
      "execution_count": null,
      "outputs": []
    },
    {
      "cell_type": "code",
      "metadata": {
        "id": "cEn1S7KO0Jjd"
      },
      "source": [
        "author_1=author_1[['AuthorId','OriginalAuthor_x', 'DOI', 'PaperId', 'Title',\n",
        "       'AffiliationId', 'OriginalAffiliation', 'AuthorSequenceNumber', 'Rank',\n",
        "       'NormalizedName', 'LastKnownAffiliationId', 'PaperCount',\n",
        "       'CitationCount', 'CreatedDate']]"
      ],
      "execution_count": null,
      "outputs": []
    },
    {
      "cell_type": "code",
      "metadata": {
        "id": "lG8z3Ike0Jjd"
      },
      "source": [
        "first_2=first_2[['AuthorId', 'AcademicAge', 'FirstId',\n",
        "       'Level','score', 'CategoryName']]"
      ],
      "execution_count": null,
      "outputs": []
    },
    {
      "cell_type": "code",
      "metadata": {
        "id": "WejusHf80Jje"
      },
      "source": [
        "author_3=author_1.merge(first_2,on=['AuthorId'])"
      ],
      "execution_count": null,
      "outputs": []
    },
    {
      "cell_type": "code",
      "metadata": {
        "id": "WzFya1mA0Jje"
      },
      "source": [
        "author_3.to_csv('author_full.csv',index=False)"
      ],
      "execution_count": null,
      "outputs": []
    },
    {
      "cell_type": "code",
      "metadata": {
        "id": "bsW94qX10Jje"
      },
      "source": [
        "author_3=pd.read_csv('author_full.csv')"
      ],
      "execution_count": null,
      "outputs": []
    },
    {
      "cell_type": "code",
      "metadata": {
        "id": "tYul36i40Jje"
      },
      "source": [
        "first_2=first_2[['OriginalAuthor_x','Level']]"
      ],
      "execution_count": null,
      "outputs": []
    },
    {
      "cell_type": "code",
      "metadata": {
        "id": "mHXejadv0Jje"
      },
      "source": [
        "author_3=author_3.astype(str)\n",
        "first_2=first_2.astype(str)"
      ],
      "execution_count": null,
      "outputs": []
    },
    {
      "cell_type": "code",
      "metadata": {
        "id": "fZTizwRt0Jje"
      },
      "source": [
        "author_3=author_3.merge(first_2,on=['OriginalAuthor_x'])"
      ],
      "execution_count": null,
      "outputs": []
    },
    {
      "cell_type": "code",
      "metadata": {
        "id": "v4sD1yu60Jje"
      },
      "source": [
        "author=pd.read_csv('author_full_1.csv')"
      ],
      "execution_count": null,
      "outputs": []
    },
    {
      "cell_type": "code",
      "metadata": {
        "id": "pghT_b8u0Jje"
      },
      "source": [
        "merge.to_csv('author_aca_age_disc.csv',index=False)"
      ],
      "execution_count": null,
      "outputs": []
    },
    {
      "cell_type": "code",
      "metadata": {
        "scrolled": false,
        "id": "aSg6VUeO0Jjf"
      },
      "source": [
        "a=pub[pub['AcademicAgeSince'].isna()] #incomplete data in the author and article txt"
      ],
      "execution_count": null,
      "outputs": []
    },
    {
      "cell_type": "code",
      "metadata": {
        "id": "NvqFbMk90Jjf",
        "outputId": "6e01d606-db30-4eb5-b3ab-80fa832284ca"
      },
      "source": [
        "a.head()"
      ],
      "execution_count": null,
      "outputs": [
        {
          "data": {
            "text/html": [
              "<div>\n",
              "<style scoped>\n",
              "    .dataframe tbody tr th:only-of-type {\n",
              "        vertical-align: middle;\n",
              "    }\n",
              "\n",
              "    .dataframe tbody tr th {\n",
              "        vertical-align: top;\n",
              "    }\n",
              "\n",
              "    .dataframe thead th {\n",
              "        text-align: right;\n",
              "    }\n",
              "</style>\n",
              "<table border=\"1\" class=\"dataframe\">\n",
              "  <thead>\n",
              "    <tr style=\"text-align: right;\">\n",
              "      <th></th>\n",
              "      <th>AuthorId</th>\n",
              "      <th>OriginalAuthor_x</th>\n",
              "      <th>OriginalAuthor_y</th>\n",
              "      <th>Doi</th>\n",
              "      <th>Year</th>\n",
              "      <th>Date</th>\n",
              "      <th>Rank</th>\n",
              "      <th>DocType</th>\n",
              "      <th>PaperId</th>\n",
              "      <th>PaperTitle</th>\n",
              "      <th>...</th>\n",
              "      <th>ReferenceCount</th>\n",
              "      <th>CitationCount</th>\n",
              "      <th>EstimatedCitation</th>\n",
              "      <th>OriginalVenue</th>\n",
              "      <th>CreatedDate</th>\n",
              "      <th>FamilyId</th>\n",
              "      <th>AffiliationId</th>\n",
              "      <th>OriginalAffiliation</th>\n",
              "      <th>AuthorSequenceNumber</th>\n",
              "      <th>AcademicAgeSince</th>\n",
              "    </tr>\n",
              "  </thead>\n",
              "  <tbody>\n",
              "    <tr>\n",
              "      <th>3266</th>\n",
              "      <td>2034664642</td>\n",
              "      <td>Adİl Sarıbay</td>\n",
              "      <td>Adİl Sarıbay</td>\n",
              "      <td>NaN</td>\n",
              "      <td>NaN</td>\n",
              "      <td>NaN</td>\n",
              "      <td>NaN</td>\n",
              "      <td>NaN</td>\n",
              "      <td>2150887989</td>\n",
              "      <td>NaN</td>\n",
              "      <td>...</td>\n",
              "      <td>NaN</td>\n",
              "      <td>NaN</td>\n",
              "      <td>NaN</td>\n",
              "      <td>NaN</td>\n",
              "      <td>NaN</td>\n",
              "      <td>NaN</td>\n",
              "      <td>4405392.0</td>\n",
              "      <td>Bogaziçi University (Turkey)</td>\n",
              "      <td>3</td>\n",
              "      <td>NaN</td>\n",
              "    </tr>\n",
              "    <tr>\n",
              "      <th>5588</th>\n",
              "      <td>2106695051</td>\n",
              "      <td>Ala Alnaser</td>\n",
              "      <td>Ala Alnaser</td>\n",
              "      <td>NaN</td>\n",
              "      <td>NaN</td>\n",
              "      <td>NaN</td>\n",
              "      <td>NaN</td>\n",
              "      <td>NaN</td>\n",
              "      <td>1979495231</td>\n",
              "      <td>NaN</td>\n",
              "      <td>...</td>\n",
              "      <td>NaN</td>\n",
              "      <td>NaN</td>\n",
              "      <td>NaN</td>\n",
              "      <td>NaN</td>\n",
              "      <td>NaN</td>\n",
              "      <td>NaN</td>\n",
              "      <td>189590672.0</td>\n",
              "      <td>Department of Mathematics, Kansas State Univer...</td>\n",
              "      <td>1</td>\n",
              "      <td>NaN</td>\n",
              "    </tr>\n",
              "    <tr>\n",
              "      <th>9295</th>\n",
              "      <td>2151355060</td>\n",
              "      <td>Meltem Kurutaş</td>\n",
              "      <td>Meltem Kurutaş</td>\n",
              "      <td>NaN</td>\n",
              "      <td>NaN</td>\n",
              "      <td>NaN</td>\n",
              "      <td>NaN</td>\n",
              "      <td>NaN</td>\n",
              "      <td>2150887989</td>\n",
              "      <td>NaN</td>\n",
              "      <td>...</td>\n",
              "      <td>NaN</td>\n",
              "      <td>NaN</td>\n",
              "      <td>NaN</td>\n",
              "      <td>NaN</td>\n",
              "      <td>NaN</td>\n",
              "      <td>NaN</td>\n",
              "      <td>4405392.0</td>\n",
              "      <td>Bogaziçi University (Turkey)</td>\n",
              "      <td>5</td>\n",
              "      <td>NaN</td>\n",
              "    </tr>\n",
              "    <tr>\n",
              "      <th>9508</th>\n",
              "      <td>2154208150</td>\n",
              "      <td>Tanuka Mukherjee</td>\n",
              "      <td>Tanuka Mukherjee</td>\n",
              "      <td>NaN</td>\n",
              "      <td>NaN</td>\n",
              "      <td>NaN</td>\n",
              "      <td>NaN</td>\n",
              "      <td>NaN</td>\n",
              "      <td>2098925955</td>\n",
              "      <td>NaN</td>\n",
              "      <td>...</td>\n",
              "      <td>NaN</td>\n",
              "      <td>NaN</td>\n",
              "      <td>NaN</td>\n",
              "      <td>NaN</td>\n",
              "      <td>NaN</td>\n",
              "      <td>NaN</td>\n",
              "      <td>1327163397.0</td>\n",
              "      <td>State University of New York</td>\n",
              "      <td>4</td>\n",
              "      <td>NaN</td>\n",
              "    </tr>\n",
              "    <tr>\n",
              "      <th>12732</th>\n",
              "      <td>2272435586</td>\n",
              "      <td>Rena P. Dixon</td>\n",
              "      <td>Rena P. Dixon</td>\n",
              "      <td>NaN</td>\n",
              "      <td>NaN</td>\n",
              "      <td>NaN</td>\n",
              "      <td>NaN</td>\n",
              "      <td>NaN</td>\n",
              "      <td>2590390843</td>\n",
              "      <td>NaN</td>\n",
              "      <td>...</td>\n",
              "      <td>NaN</td>\n",
              "      <td>NaN</td>\n",
              "      <td>NaN</td>\n",
              "      <td>NaN</td>\n",
              "      <td>NaN</td>\n",
              "      <td>NaN</td>\n",
              "      <td>NaN</td>\n",
              "      <td>South Carolina Campaign to Prevent Teen Pregna...</td>\n",
              "      <td>3</td>\n",
              "      <td>NaN</td>\n",
              "    </tr>\n",
              "  </tbody>\n",
              "</table>\n",
              "<p>5 rows × 30 columns</p>\n",
              "</div>"
            ],
            "text/plain": [
              "         AuthorId  OriginalAuthor_x  OriginalAuthor_y  Doi Year Date Rank  \\\n",
              "3266   2034664642      Adİl Sarıbay      Adİl Sarıbay  NaN  NaN  NaN  NaN   \n",
              "5588   2106695051       Ala Alnaser       Ala Alnaser  NaN  NaN  NaN  NaN   \n",
              "9295   2151355060    Meltem Kurutaş    Meltem Kurutaş  NaN  NaN  NaN  NaN   \n",
              "9508   2154208150  Tanuka Mukherjee  Tanuka Mukherjee  NaN  NaN  NaN  NaN   \n",
              "12732  2272435586     Rena P. Dixon     Rena P. Dixon  NaN  NaN  NaN  NaN   \n",
              "\n",
              "      DocType     PaperId PaperTitle  ... ReferenceCount CitationCount  \\\n",
              "3266      NaN  2150887989        NaN  ...            NaN           NaN   \n",
              "5588      NaN  1979495231        NaN  ...            NaN           NaN   \n",
              "9295      NaN  2150887989        NaN  ...            NaN           NaN   \n",
              "9508      NaN  2098925955        NaN  ...            NaN           NaN   \n",
              "12732     NaN  2590390843        NaN  ...            NaN           NaN   \n",
              "\n",
              "      EstimatedCitation OriginalVenue CreatedDate FamilyId AffiliationId  \\\n",
              "3266                NaN           NaN         NaN      NaN     4405392.0   \n",
              "5588                NaN           NaN         NaN      NaN   189590672.0   \n",
              "9295                NaN           NaN         NaN      NaN     4405392.0   \n",
              "9508                NaN           NaN         NaN      NaN  1327163397.0   \n",
              "12732               NaN           NaN         NaN      NaN           NaN   \n",
              "\n",
              "                                     OriginalAffiliation AuthorSequenceNumber  \\\n",
              "3266                        Bogaziçi University (Turkey)                    3   \n",
              "5588   Department of Mathematics, Kansas State Univer...                    1   \n",
              "9295                        Bogaziçi University (Turkey)                    5   \n",
              "9508                       State University of New York                     4   \n",
              "12732  South Carolina Campaign to Prevent Teen Pregna...                    3   \n",
              "\n",
              "      AcademicAgeSince  \n",
              "3266               NaN  \n",
              "5588               NaN  \n",
              "9295               NaN  \n",
              "9508               NaN  \n",
              "12732              NaN  \n",
              "\n",
              "[5 rows x 30 columns]"
            ]
          },
          "execution_count": 44,
          "metadata": {},
          "output_type": "execute_result"
        }
      ]
    },
    {
      "cell_type": "code",
      "metadata": {
        "id": "tyAlZ6OT0Jjf"
      },
      "source": [
        "data=pd.read_csv('author_mag.csv')"
      ],
      "execution_count": null,
      "outputs": []
    },
    {
      "cell_type": "code",
      "metadata": {
        "id": "uzudCE7Y0Jjf",
        "outputId": "826673eb-68c3-4637-9a4a-b32011e0d534"
      },
      "source": [
        "data[data.AuthorId==2034664642]"
      ],
      "execution_count": null,
      "outputs": [
        {
          "data": {
            "text/html": [
              "<div>\n",
              "<style scoped>\n",
              "    .dataframe tbody tr th:only-of-type {\n",
              "        vertical-align: middle;\n",
              "    }\n",
              "\n",
              "    .dataframe tbody tr th {\n",
              "        vertical-align: top;\n",
              "    }\n",
              "\n",
              "    .dataframe thead th {\n",
              "        text-align: right;\n",
              "    }\n",
              "</style>\n",
              "<table border=\"1\" class=\"dataframe\">\n",
              "  <thead>\n",
              "    <tr style=\"text-align: right;\">\n",
              "      <th></th>\n",
              "      <th>AuthorId</th>\n",
              "      <th>OriginalAuthor</th>\n",
              "      <th>DOI</th>\n",
              "      <th>PaperId</th>\n",
              "      <th>Title</th>\n",
              "      <th>AffiliationId</th>\n",
              "      <th>OriginalAffiliation</th>\n",
              "      <th>AuthorSequenceNumber</th>\n",
              "    </tr>\n",
              "  </thead>\n",
              "  <tbody>\n",
              "    <tr>\n",
              "      <th>3266</th>\n",
              "      <td>2034664642</td>\n",
              "      <td>Adİl Sarıbay</td>\n",
              "      <td>10.1002/ejsp.2041</td>\n",
              "      <td>2150887989</td>\n",
              "      <td>Would you post that picture and let your dad s...</td>\n",
              "      <td>4405392.0</td>\n",
              "      <td>Bogaziçi University (Turkey)</td>\n",
              "      <td>3</td>\n",
              "    </tr>\n",
              "  </tbody>\n",
              "</table>\n",
              "</div>"
            ],
            "text/plain": [
              "        AuthorId OriginalAuthor                DOI     PaperId  \\\n",
              "3266  2034664642   Adİl Sarıbay  10.1002/ejsp.2041  2150887989   \n",
              "\n",
              "                                                  Title AffiliationId  \\\n",
              "3266  Would you post that picture and let your dad s...     4405392.0   \n",
              "\n",
              "               OriginalAffiliation AuthorSequenceNumber  \n",
              "3266  Bogaziçi University (Turkey)                    3  "
            ]
          },
          "execution_count": 42,
          "metadata": {},
          "output_type": "execute_result"
        }
      ]
    },
    {
      "cell_type": "code",
      "metadata": {
        "scrolled": true,
        "id": "JJSbUWXj0Jjf",
        "outputId": "25a26dd8-b8fb-4a27-c5e7-36348a4fb611"
      },
      "source": [
        "a.iloc[0]"
      ],
      "execution_count": null,
      "outputs": [
        {
          "data": {
            "text/plain": [
              "AuthorId                                  2034664642\n",
              "OriginalAuthor_x                        Adİl Sarıbay\n",
              "OriginalAuthor_y                        Adİl Sarıbay\n",
              "Doi                                              NaN\n",
              "Year                                             NaN\n",
              "Date                                             NaN\n",
              "Rank                                             NaN\n",
              "DocType                                          NaN\n",
              "PaperId                                   2150887989\n",
              "PaperTitle                                       NaN\n",
              "OriginalTitle                                    NaN\n",
              "BookTitle                                        NaN\n",
              "Publisher                                        NaN\n",
              "JournalId                                        NaN\n",
              "ConferenceSeriesId                               NaN\n",
              "ConferenceInstanceId                             NaN\n",
              "Volume                                           NaN\n",
              "Issue                                            NaN\n",
              "FirstPage                                        NaN\n",
              "LastPage                                         NaN\n",
              "ReferenceCount                                   NaN\n",
              "CitationCount                                    NaN\n",
              "EstimatedCitation                                NaN\n",
              "OriginalVenue                                    NaN\n",
              "CreatedDate                                      NaN\n",
              "FamilyId                                         NaN\n",
              "AffiliationId                              4405392.0\n",
              "OriginalAffiliation     Bogaziçi University (Turkey)\n",
              "AuthorSequenceNumber                               3\n",
              "AcademicAgeSince                                 NaN\n",
              "Name: 3266, dtype: object"
            ]
          },
          "execution_count": 37,
          "metadata": {},
          "output_type": "execute_result"
        }
      ]
    }
  ]
}